{
 "cells": [
  {
   "cell_type": "code",
   "execution_count": 1,
   "id": "5fd9d5ab",
   "metadata": {},
   "outputs": [
    {
     "name": "stdout",
     "output_type": "stream",
     "text": [
      "['Interatomic', 'potentials', '(IPs)', 'are', 'reduced-order', 'models', 'for', 'calculating', 'the', 'potential', 'energy', 'of', 'a', 'system', 'of', 'atoms', 'given', 'their', 'positions', 'in', 'space', 'and', 'species', 'IPs', 'treat', 'atoms', 'as', 'classical', 'particles', 'without', 'explicitly', 'modeling', 'electrons', 'and', 'thus', 'are', 'computationally', 'far', 'less', 'expensive', 'than', 'first-principles', 'methods', 'enabling', 'molecular', 'simulations', 'of', 'significantly', 'larger', 'systems', 'over', 'longer', 'times', 'Developing', 'an', 'IP', 'is', 'a', 'complex', 'iterative', 'process', 'involving', 'multiple', 'steps:', 'assembling', 'a', 'training', 'set', 'designing', 'a', 'functional', 'form', 'optimizing', 'the', 'function', 'parameters', 'testing', 'model', 'quality', 'and', 'deployment', 'to', 'molecular', 'simulation', 'packages', 'This', 'paper', 'introduces', 'the', 'KIM-based', 'learning-integrated', 'fitting', 'framework', '(KLIFF)', 'a', 'package', 'that', 'facilitates', 'the', 'entire', 'IP', 'development', 'process', 'KLIFF', 'supports', 'both', 'physics-based', 'and', 'machine', 'learning', 'IPs', 'It', 'adopts', 'a', 'modular', 'approach', 'whereby', 'various', 'components', 'in', 'the', 'fitting', 'process', 'such', 'as', 'atomic', 'environment', 'descriptors', 'functional', 'forms', 'loss', 'functions', 'optimizers', 'quality', 'analyzers', 'and', 'so', 'on', 'work', 'seamlessly', 'with', 'each', 'other', 'This', 'provides', 'a', 'flexible', 'framework', 'for', 'the', 'rapid', 'design', 'of', 'new', 'IP', 'forms', 'Trained', 'IPs', 'are', 'compatible', 'with', 'the', 'Knowledgebase', 'of', 'Interatomic', 'Models', '(KIM)', 'application', 'programming', 'interface', '(API)', 'and', 'can', 'be', 'readily', 'used', 'in', 'major', 'materials', 'simulation', 'packages', 'compatible', 'with', 'KIM', 'including', 'ASE', 'DL_POLY', 'GULP', 'LAMMPS', 'and', 'QC', 'KLIFF', 'is', 'written', 'in', 'Python', 'with', 'computationally', 'intensive', 'components', 'implemented', 'in', 'C++', 'It', 'is', 'parallelized', 'over', 'data', 'and', 'supports', 'both', 'shared-memory', 'multicore', 'desktop', 'machines', 'and', 'high-performance', 'distributed', 'memory', 'computing', 'clusters', 'We', 'demonstrate', 'the', 'use', 'of', 'KLIFF', 'by', 'fitting', 'a', 'physics-based', 'Stillinger–Weber', 'potential', 'and', 'a', 'machine', 'learning', 'neural', 'network', 'potential', 'for', 'silicon', 'The', 'KLIFF', 'package', 'together', 'with', 'its', 'documentation', 'is', 'publicly', 'available', 'at:', 'https://github', 'com/openkim/kliff', 'Program', 'summary:', 'Program', 'Title:', 'KIM-based', 'Learning-integrated', 'Fitting', 'Framework', '(KLIFF)', 'CPC', 'Library', 'link', 'to', 'program', 'files:', 'https://doi', 'org/10', '17632/fk77gs5b2d', '1', 'Licensing', 'provisions:', 'LGPL', '2', '1', 'Programming', 'language:', 'Python', 'C++', 'Supplementary', 'material:', 'Example', 'scripts', 'for', 'the', 'demonstrations', 'which', 'are', 'compatible', 'with', 'KLIFF', 'v0', '3', '0', 'Nature', 'of', 'problem:', 'Development', 'of', 'a', 'model', 'called', 'an', 'interatomic', 'potential', '(IP)', 'representing', 'the', 'potential', 'energy', 'of', 'a', 'system', 'of', 'atoms', 'based', 'on', 'their', 'positions', 'in', 'space', 'and', 'species', 'This', 'is', 'a', 'complex', 'iterative', 'process', 'involving', 'multiple', 'steps:', 'assembling', 'a', 'training', 'set', 'designing', 'a', 'functional', 'form', 'optimizing', 'the', 'function', 'parameters', 'testing', 'IP', 'quality', 'and', 'deployment', 'of', 'the', 'fitted', 'IP', 'to', 'molecular', 'simulation', 'packages', 'Solution', 'method:', 'The', 'fitting', 'process', 'is', 'formulated', 'as', 'an', 'optimization', 'problem', 'where', 'a', 'loss', 'function', 'characterizing', 'the', 'IP', 'error', 'over', 'a', 'training', 'set', 'is', 'minimized', 'to', 'obtain', 'the', 'optimal', 'fitting', 'parameters', 'KLIFF', 'is', 'designed', 'in', 'a', 'modular', 'fashion', 'providing', 'the', 'user', 'with', 'flexible', 'access', 'to', 'different', 'functional', 'forms', 'loss', 'functions', 'optimization', 'algorithms', 'and', 'analyzers', 'for', 'testing', 'the', 'quality', 'of', 'the', 'fitted', 'IP', 'KLIFF', 'is', 'built', 'on', 'the', 'Knowledgebase', 'of', 'Interatomic', 'Models', '(KIM)', 'API', 'standard', 'which', 'enables', 'immediate', 'deployment', 'of', 'fitted', 'IPs', 'to', 'major', 'materials', 'simulation', 'packages', 'that', 'are', 'compatible', 'with', 'KIM']\n",
      "452\n"
     ]
    }
   ],
   "source": [
    "import utils_annotate as ut_an\n",
    "import json\n",
    "data = ut_an.load_json('data/2024-02-14_sciencedirect_machine+learning+interatomic+potential_120.json')\n",
    "abstracts = [entry['abstract'] for entry in data if entry['abstract'] != None]\n",
    "ab = abstracts[22]\n",
    "ab = ab.replace('.', ' ').replace(', ', ' ').split()\n",
    "ab = [e.replace('\"', \"'\") for e in ab]\n",
    "print(ab)\n",
    "print(len(ab))"
   ]
  },
  {
   "cell_type": "code",
   "execution_count": null,
   "id": "a0a9a4f3",
   "metadata": {},
   "outputs": [],
   "source": [
    "print([i for i, j in enumerate(ab) if j == \"machine\"])"
   ]
  },
  {
   "cell_type": "code",
   "execution_count": null,
   "id": "90d402e0",
   "metadata": {
    "scrolled": true
   },
   "outputs": [],
   "source": [
    "ner = [\"O\"] * len(ab)\n",
    "ind_list_MATERIAL = [1, 2, 3, 25, 56, 77, 114, 128]\n",
    "ind_list_MLIP = [52, 53, 54]\n",
    "print([ab[j] for j in ind_list_MATERIAL])\n",
    "print([ab[j] for j in ind_list_MLIP])\n",
    "for i in ind_list_MATERIAL:    \n",
    "    ner[i] = \"MATERIAL\"\n",
    "for i in ind_list_MLIP:    \n",
    "    ner[i] = \"MLIP\"\n",
    "print(ner)"
   ]
  },
  {
   "cell_type": "code",
   "execution_count": null,
   "id": "8bb8693f",
   "metadata": {},
   "outputs": [],
   "source": [
    "json_entry = {\"words\": ab, \"ner\": ner}\n",
    "# print(json_entry)"
   ]
  },
  {
   "cell_type": "code",
   "execution_count": null,
   "id": "758294ca",
   "metadata": {},
   "outputs": [],
   "source": [
    "# with open('data/data_own.json', 'w') as f:\n",
    "#     json.dump(json_entry, f)\n",
    "with open('data/data_own.json', 'a') as f:\n",
    "    f.write('\\n')\n",
    "with open('data/data_own.json', 'a') as f:\n",
    "    json.dump(json_entry, f)"
   ]
  },
  {
   "cell_type": "code",
   "execution_count": null,
   "id": "b9bcbbe5",
   "metadata": {},
   "outputs": [],
   "source": [
    "our_data = ut_an.read_data('data/data_own.json', 512)"
   ]
  },
  {
   "cell_type": "code",
   "execution_count": null,
   "id": "bbb65698",
   "metadata": {},
   "outputs": [],
   "source": [
    "our_data.__len__()"
   ]
  },
  {
   "cell_type": "code",
   "execution_count": null,
   "id": "91862510",
   "metadata": {},
   "outputs": [],
   "source": [
    "print(our_data[-1])"
   ]
  },
  {
   "cell_type": "code",
   "execution_count": null,
   "id": "657df151",
   "metadata": {},
   "outputs": [],
   "source": []
  }
 ],
 "metadata": {
  "kernelspec": {
   "display_name": "Python 3 (ipykernel)",
   "language": "python",
   "name": "python3"
  },
  "language_info": {
   "codemirror_mode": {
    "name": "ipython",
    "version": 3
   },
   "file_extension": ".py",
   "mimetype": "text/x-python",
   "name": "python",
   "nbconvert_exporter": "python",
   "pygments_lexer": "ipython3",
   "version": "3.10.13"
  }
 },
 "nbformat": 4,
 "nbformat_minor": 5
}
