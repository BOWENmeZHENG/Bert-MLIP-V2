{
 "cells": [
  {
   "cell_type": "code",
   "execution_count": 1,
   "id": "f7c3138f",
   "metadata": {},
   "outputs": [],
   "source": [
    "import utils_annotate as ut_an\n",
    "import json"
   ]
  },
  {
   "cell_type": "code",
   "execution_count": 2,
   "id": "607a501f",
   "metadata": {},
   "outputs": [],
   "source": [
    "data = ut_an.load_json('data/2024-02-14_sciencedirect_machine+learning+interatomic+potential_120.json')\n",
    "abstracts = [entry['abstract'] for entry in data if entry['abstract'] != None]"
   ]
  },
  {
   "cell_type": "code",
   "execution_count": 3,
   "id": "49e599b7",
   "metadata": {},
   "outputs": [
    {
     "name": "stdout",
     "output_type": "stream",
     "text": [
      "['Zirconium', 'alloys', 'are', 'pivotal', 'structural', 'materials', 'in', 'nuclear', 'reactors', 'Enhancing', 'their', 'properties', 'and', 'performance', 'necessitates', 'a', 'profound', 'understanding', 'of', 'the', 'interactions', 'between', 'alloying', 'elements', 'and', 'lattice', 'defects', 'However', 'the', 'atomic-level', 'mechanisms', 'that', 'account', 'for', 'the', 'effects', 'of', 'tin', '(Sn)', 'on', 'irradiation-induced', 'defect', 'evolution', 'in', 'zirconium', '(Zr)', 'are', 'not', 'well', 'understood', 'yet', 'To', 'bridge', 'this', 'gap', 'we', 'conducted', 'extensive', 'first-principles', 'calculations', 'and', 'utilized', 'the', 'obtained', 'data', 'to', 'develop', 'two', 'interatomic', 'potentials', 'for', 'the', 'Zr-Sn', 'system:', 'a', 'Zr-Sn', 'moment', 'tensor', 'machine', 'learning', 'interatomic', 'potential', '(MTP)', 'and', 'a', 'modified', 'embedded', 'atom', 'potential', '(MEAM)', 'built', 'upon', 'existing', 'unary', 'ones', 'The', 'reliability', 'of', 'the', 'constructed', 'potentials', 'was', 'validated', 'through', 'systematically', 'comparing', 'relevant', 'physical', 'properties', 'of', 'pure', 'Zr', 'Sn', 'metals', 'and', 'Zr-Sn', 'solid', 'solutions', 'calculated', 'using', 'these', 'potentials', 'to', 'values', 'obtained', 'from', 'density', 'functional', 'theory', 'calculations', 'and/or', 'experiments', 'The', 'developed', 'potentials', 'exhibit', 'high', 'fidelity', 'and', 'accuracy', 'in', 'capturing', 'the', 'behavior', 'of', 'the', 'Zr-Sn', 'system', 'Their', 'applicability', 'in', 'terms', 'of', 'both', 'reliability', 'and', 'computational', 'efficiency', 'was', 'also', 'discussed', 'These', 'potentials', 'provide', 'a', 'solid', 'foundation', 'for', 'further', 'exploration', 'of', 'the', 'atomic-scale', 'behavior', 'of', 'the', 'Zr-Sn', 'alloy', 'systems', 'thereby', 'facilitating', 'the', 'continuous', 'optimization', 'and', 'application', 'of', 'the', 'zirconium', 'alloys']\n",
      "190\n"
     ]
    }
   ],
   "source": [
    "ab = abstracts[1]\n",
    "ab = ab.replace('.', ' ').replace(', ', ' ').split()\n",
    "ab = [e.replace('\"', \"'\") for e in ab]\n",
    "print(ab)\n",
    "print(len(ab))"
   ]
  },
  {
   "cell_type": "code",
   "execution_count": null,
   "id": "af2833b4",
   "metadata": {},
   "outputs": [],
   "source": [
    "print([i for i, j in enumerate(ab) if j == \"moment\"])"
   ]
  },
  {
   "cell_type": "code",
   "execution_count": 4,
   "id": "c3bf432e",
   "metadata": {
    "scrolled": true
   },
   "outputs": [
    {
     "name": "stdout",
     "output_type": "stream",
     "text": [
      "['Zirconium', 'alloys', 'tin', '(Sn)', 'zirconium', 'zirconium', '(Zr)', 'Zr-Sn', 'Zr-Sn', 'Zr-Sn', 'Zr-Sn', 'Zr-Sn', 'Zr', 'Sn', 'alloys']\n",
      "['moment', 'tensor', '(MTP)']\n",
      "['MATERIAL', 'MATERIAL', 'O', 'O', 'O', 'O', 'O', 'O', 'O', 'O', 'O', 'O', 'O', 'O', 'O', 'O', 'O', 'O', 'O', 'O', 'O', 'O', 'O', 'O', 'O', 'O', 'O', 'O', 'O', 'O', 'O', 'O', 'O', 'O', 'O', 'O', 'O', 'MATERIAL', 'MATERIAL', 'O', 'O', 'O', 'O', 'O', 'MATERIAL', 'MATERIAL', 'O', 'O', 'O', 'O', 'O', 'O', 'O', 'O', 'O', 'O', 'O', 'O', 'O', 'O', 'O', 'O', 'O', 'O', 'O', 'O', 'O', 'O', 'O', 'O', 'O', 'O', 'MATERIAL', 'O', 'O', 'MATERIAL', 'MLIP', 'MLIP', 'O', 'O', 'O', 'O', 'MLIP', 'O', 'O', 'O', 'O', 'O', 'O', 'O', 'O', 'O', 'O', 'O', 'O', 'O', 'O', 'O', 'O', 'O', 'O', 'O', 'O', 'O', 'O', 'O', 'O', 'O', 'O', 'O', 'O', 'MATERIAL', 'MATERIAL', 'O', 'O', 'MATERIAL', 'O', 'O', 'O', 'O', 'O', 'O', 'O', 'O', 'O', 'O', 'O', 'O', 'O', 'O', 'O', 'O', 'O', 'O', 'O', 'O', 'O', 'O', 'O', 'O', 'O', 'O', 'O', 'O', 'O', 'O', 'MATERIAL', 'O', 'O', 'O', 'O', 'O', 'O', 'O', 'O', 'O', 'O', 'O', 'O', 'O', 'O', 'O', 'O', 'O', 'O', 'O', 'O', 'O', 'O', 'O', 'O', 'O', 'O', 'O', 'O', 'O', 'MATERIAL', 'O', 'O', 'O', 'O', 'O', 'O', 'O', 'O', 'O', 'O', 'O', 'MATERIAL', 'MATERIAL']\n"
     ]
    }
   ],
   "source": [
    "ner = [\"O\"] * len(ab)\n",
    "ind_list_MATERIAL = [0, 1, 37, 38, 44, 188, 45, 72, 75, 115, 146, 176, 111, 112, 189]\n",
    "ind_list_MLIP = [76, 77, 82]\n",
    "print([ab[j] for j in ind_list_MATERIAL])\n",
    "print([ab[j] for j in ind_list_MLIP])\n",
    "for i in ind_list_MATERIAL:    \n",
    "    ner[i] = \"MATERIAL\"\n",
    "for i in ind_list_MLIP:    \n",
    "    ner[i] = \"MLIP\"\n",
    "print(ner)"
   ]
  },
  {
   "cell_type": "code",
   "execution_count": 5,
   "id": "378a52c2",
   "metadata": {},
   "outputs": [],
   "source": [
    "json_entry = {\"words\": ab, \"ner\": ner}\n",
    "# print(json_entry)"
   ]
  },
  {
   "cell_type": "code",
   "execution_count": 6,
   "id": "5bbc501e",
   "metadata": {},
   "outputs": [],
   "source": [
    "# with open('data/data_own.json', 'w') as f:\n",
    "#     json.dump(json_entry, f)\n",
    "with open('data/data_own.json', 'a') as f:\n",
    "    f.write('\\n')\n",
    "with open('data/data_own.json', 'a') as f:\n",
    "    json.dump(json_entry, f)"
   ]
  },
  {
   "cell_type": "code",
   "execution_count": 7,
   "id": "b75210b6",
   "metadata": {},
   "outputs": [],
   "source": [
    "our_data = ut_an.read_data('data/data_own.json', 512)"
   ]
  },
  {
   "cell_type": "code",
   "execution_count": 9,
   "id": "ebbb1918",
   "metadata": {},
   "outputs": [
    {
     "data": {
      "text/plain": [
       "2"
      ]
     },
     "execution_count": 9,
     "metadata": {},
     "output_type": "execute_result"
    }
   ],
   "source": [
    "our_data.__len__()"
   ]
  }
 ],
 "metadata": {
  "kernelspec": {
   "display_name": "Python 3 (ipykernel)",
   "language": "python",
   "name": "python3"
  },
  "language_info": {
   "codemirror_mode": {
    "name": "ipython",
    "version": 3
   },
   "file_extension": ".py",
   "mimetype": "text/x-python",
   "name": "python",
   "nbconvert_exporter": "python",
   "pygments_lexer": "ipython3",
   "version": "3.10.13"
  }
 },
 "nbformat": 4,
 "nbformat_minor": 5
}
