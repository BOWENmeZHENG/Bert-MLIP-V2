{
 "cells": [
  {
   "cell_type": "code",
   "execution_count": 1,
   "id": "f90213bb",
   "metadata": {},
   "outputs": [],
   "source": [
    "import utils_annotate as ut_an"
   ]
  },
  {
   "cell_type": "code",
   "execution_count": 2,
   "id": "33bc15ae",
   "metadata": {},
   "outputs": [],
   "source": [
    "data = ut_an.load_json('data/2024-02-14_sciencedirect_machine+learning+interatomic+potential_120.json')"
   ]
  },
  {
   "cell_type": "code",
   "execution_count": 3,
   "id": "df641964",
   "metadata": {},
   "outputs": [],
   "source": [
    "abstracts = [entry['abstract'] for entry in data if entry['abstract'] != None]\n"
   ]
  },
  {
   "cell_type": "code",
   "execution_count": 5,
   "id": "bfe1da2e",
   "metadata": {},
   "outputs": [
    {
     "data": {
      "text/plain": [
       "102"
      ]
     },
     "execution_count": 5,
     "metadata": {},
     "output_type": "execute_result"
    }
   ],
   "source": [
    "len(abstracts)"
   ]
  },
  {
   "cell_type": "code",
   "execution_count": 40,
   "id": "d9e4a936",
   "metadata": {},
   "outputs": [
    {
     "name": "stdout",
     "output_type": "stream",
     "text": [
      "['The', 'HCP', 'structure', 'of', 'zinc', '(Zn)', 'exhibits', 'an', 'anomalous', 'c/a', 'ratio', 'a', 'factor', 'that', 'traditional', 'empirical', 'potentials', 'find', 'challenging', 'to', 'reproduce', 'accurately', 'thus', 'impeding', 'thorough', 'investigations', 'of', 'its', 'property', 'and', 'behavior', 'via', 'realistic', 'atomistic', 'simulations', 'The', 'advent', 'of', 'machine', 'learning', 'interatomic', 'potentials', 'in', 'recent', 'years', 'has', 'ushered', 'in', 'new', 'opportunities', 'for', 'the', 'development', 'of', 'reliable', 'Zn', 'potentials', 'In', 'this', 'study', 'we', 'construct', 'a', 'large', 'set', 'of', 'atomic', 'configurations', 'composed', 'of', 'Zn', 'atoms', 'and', 'calculate', 'their', 'energy', 'atomic', 'forces', 'and', 'stress', 'tensor', 'through', 'high-throughput', 'density', 'functional', 'theory', 'calculations', 'Based', 'on', 'the', 'calculated', 'data', 'a', 'moment', 'tensor', 'potential', 'for', 'Zn', 'is', 'developed', 'whose', 'fidelity', 'is', 'then', 'thoroughly', 'examined', 'by', 'comprehensive', 'comparison', 'to', 'existing', 'potentials', 'from', 'the', 'literature', 'density', 'function', 'theory', 'calculations', 'and/or', 'experimental', 'measurements', 'It', 'is', 'found', 'that', 'the', 'constructed', 'potential', 'can', 'accurately', 'reproduce', 'the', 'c/a', 'ratio', 'of', 'HCP', 'Zn', 'the', 'relative', 'stability', 'of', 'different', 'crystal', 'phases', 'the', 'elastic', 'properties', 'and', 'defect', 'properties', 'of', 'Zn', 'It', 'can', 'also', 'describe', 'reliably', 'the', 'structure', 'thermodynamic', 'and', 'kinetic', 'properties', 'of', 'Zn', 'melt', 'This', 'potential', 'therefore', 'offers', 'a', 'reliable', 'tool', 'for', 'further', 'exploration', 'of', 'the', 'property', 'and', 'behavior', 'of', 'Zn', 'at', 'the', 'atomic', 'scale']\n",
      "188\n"
     ]
    }
   ],
   "source": [
    "ab = abstracts[0]\n",
    "ab = ab.replace('.', ' ').replace(', ', ' ').split()\n",
    "# ab.split()\n",
    "# print(type(ab))\n",
    "print(ab)\n",
    "print(len(ab))"
   ]
  },
  {
   "cell_type": "code",
   "execution_count": 41,
   "id": "df2d4408",
   "metadata": {},
   "outputs": [
    {
     "name": "stdout",
     "output_type": "stream",
     "text": [
      "[55, 70, 97, 137, 152, 165, 183]\n"
     ]
    }
   ],
   "source": [
    "print([i for i, j in enumerate(ab) if j == 'Zn'])"
   ]
  },
  {
   "cell_type": "code",
   "execution_count": 43,
   "id": "69406a48",
   "metadata": {
    "scrolled": true
   },
   "outputs": [
    {
     "name": "stdout",
     "output_type": "stream",
     "text": [
      "['zinc', '(Zn)', 'Zn', 'Zn', 'Zn', 'Zn', 'Zn', 'Zn', 'Zn']\n",
      "['moment', 'tensor', 'potential']\n",
      "['O', 'O', 'O', 'O', 'MATERIAL', 'MATERIAL', 'O', 'O', 'O', 'O', 'O', 'O', 'O', 'O', 'O', 'O', 'O', 'O', 'O', 'O', 'O', 'O', 'O', 'O', 'O', 'O', 'O', 'O', 'O', 'O', 'O', 'O', 'O', 'O', 'O', 'O', 'O', 'O', 'O', 'O', 'O', 'O', 'O', 'O', 'O', 'O', 'O', 'O', 'O', 'O', 'O', 'O', 'O', 'O', 'O', 'MATERIAL', 'O', 'O', 'O', 'O', 'O', 'O', 'O', 'O', 'O', 'O', 'O', 'O', 'O', 'O', 'MATERIAL', 'O', 'O', 'O', 'O', 'O', 'O', 'O', 'O', 'O', 'O', 'O', 'O', 'O', 'O', 'O', 'O', 'O', 'O', 'O', 'O', 'O', 'O', 'MLIP', 'MLIP', 'MLIP', 'O', 'MATERIAL', 'O', 'O', 'O', 'O', 'O', 'O', 'O', 'O', 'O', 'O', 'O', 'O', 'O', 'O', 'O', 'O', 'O', 'O', 'O', 'O', 'O', 'O', 'O', 'O', 'O', 'O', 'O', 'O', 'O', 'O', 'O', 'O', 'O', 'O', 'O', 'O', 'O', 'O', 'O', 'MATERIAL', 'O', 'O', 'O', 'O', 'O', 'O', 'O', 'O', 'O', 'O', 'O', 'O', 'O', 'O', 'MATERIAL', 'O', 'O', 'O', 'O', 'O', 'O', 'O', 'O', 'O', 'O', 'O', 'O', 'MATERIAL', 'O', 'O', 'O', 'O', 'O', 'O', 'O', 'O', 'O', 'O', 'O', 'O', 'O', 'O', 'O', 'O', 'O', 'MATERIAL', 'O', 'O', 'O', 'O']\n"
     ]
    }
   ],
   "source": [
    "ner = ['O'] * len(ab)\n",
    "ind_list_MATERIAL = [4, 5, 55, 70, 97, 137, 152, 165, 183]\n",
    "ind_list_MLIP = [93, 94, 95]\n",
    "print([ab[j] for j in ind_list_MATERIAL])\n",
    "print([ab[j] for j in ind_list_MLIP])\n",
    "for i in ind_list_MATERIAL:    \n",
    "    ner[i] = 'MATERIAL'\n",
    "for i in ind_list_MLIP:    \n",
    "    ner[i] = 'MLIP'\n",
    "print(ner)"
   ]
  },
  {
   "cell_type": "code",
   "execution_count": 44,
   "id": "d7127b4f",
   "metadata": {},
   "outputs": [],
   "source": [
    "json_entry = {'words': ab, 'ner': ner}"
   ]
  },
  {
   "cell_type": "code",
   "execution_count": 46,
   "id": "a9464236",
   "metadata": {},
   "outputs": [
    {
     "name": "stdout",
     "output_type": "stream",
     "text": [
      "{'words': ['The', 'HCP', 'structure', 'of', 'zinc', '(Zn)', 'exhibits', 'an', 'anomalous', 'c/a', 'ratio', 'a', 'factor', 'that', 'traditional', 'empirical', 'potentials', 'find', 'challenging', 'to', 'reproduce', 'accurately', 'thus', 'impeding', 'thorough', 'investigations', 'of', 'its', 'property', 'and', 'behavior', 'via', 'realistic', 'atomistic', 'simulations', 'The', 'advent', 'of', 'machine', 'learning', 'interatomic', 'potentials', 'in', 'recent', 'years', 'has', 'ushered', 'in', 'new', 'opportunities', 'for', 'the', 'development', 'of', 'reliable', 'Zn', 'potentials', 'In', 'this', 'study', 'we', 'construct', 'a', 'large', 'set', 'of', 'atomic', 'configurations', 'composed', 'of', 'Zn', 'atoms', 'and', 'calculate', 'their', 'energy', 'atomic', 'forces', 'and', 'stress', 'tensor', 'through', 'high-throughput', 'density', 'functional', 'theory', 'calculations', 'Based', 'on', 'the', 'calculated', 'data', 'a', 'moment', 'tensor', 'potential', 'for', 'Zn', 'is', 'developed', 'whose', 'fidelity', 'is', 'then', 'thoroughly', 'examined', 'by', 'comprehensive', 'comparison', 'to', 'existing', 'potentials', 'from', 'the', 'literature', 'density', 'function', 'theory', 'calculations', 'and/or', 'experimental', 'measurements', 'It', 'is', 'found', 'that', 'the', 'constructed', 'potential', 'can', 'accurately', 'reproduce', 'the', 'c/a', 'ratio', 'of', 'HCP', 'Zn', 'the', 'relative', 'stability', 'of', 'different', 'crystal', 'phases', 'the', 'elastic', 'properties', 'and', 'defect', 'properties', 'of', 'Zn', 'It', 'can', 'also', 'describe', 'reliably', 'the', 'structure', 'thermodynamic', 'and', 'kinetic', 'properties', 'of', 'Zn', 'melt', 'This', 'potential', 'therefore', 'offers', 'a', 'reliable', 'tool', 'for', 'further', 'exploration', 'of', 'the', 'property', 'and', 'behavior', 'of', 'Zn', 'at', 'the', 'atomic', 'scale'], 'ner': ['O', 'O', 'O', 'O', 'MATERIAL', 'MATERIAL', 'O', 'O', 'O', 'O', 'O', 'O', 'O', 'O', 'O', 'O', 'O', 'O', 'O', 'O', 'O', 'O', 'O', 'O', 'O', 'O', 'O', 'O', 'O', 'O', 'O', 'O', 'O', 'O', 'O', 'O', 'O', 'O', 'O', 'O', 'O', 'O', 'O', 'O', 'O', 'O', 'O', 'O', 'O', 'O', 'O', 'O', 'O', 'O', 'O', 'MATERIAL', 'O', 'O', 'O', 'O', 'O', 'O', 'O', 'O', 'O', 'O', 'O', 'O', 'O', 'O', 'MATERIAL', 'O', 'O', 'O', 'O', 'O', 'O', 'O', 'O', 'O', 'O', 'O', 'O', 'O', 'O', 'O', 'O', 'O', 'O', 'O', 'O', 'O', 'O', 'MLIP', 'MLIP', 'MLIP', 'O', 'MATERIAL', 'O', 'O', 'O', 'O', 'O', 'O', 'O', 'O', 'O', 'O', 'O', 'O', 'O', 'O', 'O', 'O', 'O', 'O', 'O', 'O', 'O', 'O', 'O', 'O', 'O', 'O', 'O', 'O', 'O', 'O', 'O', 'O', 'O', 'O', 'O', 'O', 'O', 'O', 'O', 'MATERIAL', 'O', 'O', 'O', 'O', 'O', 'O', 'O', 'O', 'O', 'O', 'O', 'O', 'O', 'O', 'MATERIAL', 'O', 'O', 'O', 'O', 'O', 'O', 'O', 'O', 'O', 'O', 'O', 'O', 'MATERIAL', 'O', 'O', 'O', 'O', 'O', 'O', 'O', 'O', 'O', 'O', 'O', 'O', 'O', 'O', 'O', 'O', 'O', 'MATERIAL', 'O', 'O', 'O', 'O']}\n"
     ]
    }
   ],
   "source": [
    "print(json_entry)"
   ]
  }
 ],
 "metadata": {
  "kernelspec": {
   "display_name": "Python 3 (ipykernel)",
   "language": "python",
   "name": "python3"
  },
  "language_info": {
   "codemirror_mode": {
    "name": "ipython",
    "version": 3
   },
   "file_extension": ".py",
   "mimetype": "text/x-python",
   "name": "python",
   "nbconvert_exporter": "python",
   "pygments_lexer": "ipython3",
   "version": "3.10.13"
  }
 },
 "nbformat": 4,
 "nbformat_minor": 5
}
