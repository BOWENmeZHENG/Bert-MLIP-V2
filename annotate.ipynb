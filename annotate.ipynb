{
 "cells": [
  {
   "cell_type": "code",
   "execution_count": null,
   "id": "6708ac75",
   "metadata": {},
   "outputs": [],
   "source": [
    "import utils_annotate as ut_an\n",
    "import json\n",
    "train_data = 'data/data_own.json'"
   ]
  },
  {
   "cell_type": "code",
   "execution_count": null,
   "id": "5fd9d5ab",
   "metadata": {},
   "outputs": [],
   "source": [
    "import utils_annotate as ut_an\n",
    "import json\n",
    "data = ut_an.load_json('data/2024-02-14_sciencedirect_machine+learning+interatomic+potential_120.json')\n",
    "abstracts = [entry['abstract'] for entry in data if entry['abstract'] != None]\n",
    "ab = abstracts[22]\n",
    "ab = ab.replace('.', ' ').replace(', ', ' ').split()\n",
    "ab = [e.replace('\"', \"'\") for e in ab]\n",
    "print(ab)\n",
    "print(len(ab))"
   ]
  },
  {
   "cell_type": "code",
   "execution_count": null,
   "id": "a0a9a4f3",
   "metadata": {},
   "outputs": [],
   "source": [
    "print([i for i, j in enumerate(ab) if j == \"machine\"])"
   ]
  },
  {
   "cell_type": "code",
   "execution_count": null,
   "id": "90d402e0",
   "metadata": {
    "scrolled": true
   },
   "outputs": [],
   "source": [
    "ner = [\"O\"] * len(ab)\n",
    "ind_list_MATERIAL = [1, 2, 3, 25, 56, 77, 114, 128]\n",
    "ind_list_MLIP = [52, 53, 54]\n",
    "print([ab[j] for j in ind_list_MATERIAL])\n",
    "print([ab[j] for j in ind_list_MLIP])\n",
    "for i in ind_list_MATERIAL:    \n",
    "    ner[i] = \"MATERIAL\"\n",
    "for i in ind_list_MLIP:    \n",
    "    ner[i] = \"MLIP\"\n",
    "print(ner)"
   ]
  },
  {
   "cell_type": "code",
   "execution_count": null,
   "id": "8bb8693f",
   "metadata": {},
   "outputs": [],
   "source": [
    "json_entry = {\"words\": ab, \"ner\": ner}\n",
    "# print(json_entry)"
   ]
  },
  {
   "cell_type": "code",
   "execution_count": null,
   "id": "758294ca",
   "metadata": {},
   "outputs": [],
   "source": [
    "# with open('data/data_own.json', 'w') as f:\n",
    "#     json.dump(json_entry, f)\n",
    "with open('data/data_own.json', 'a') as f:\n",
    "    f.write('\\n')\n",
    "with open('data/data_own.json', 'a') as f:\n",
    "    json.dump(json_entry, f)"
   ]
  },
  {
   "cell_type": "code",
   "execution_count": null,
   "id": "b9bcbbe5",
   "metadata": {},
   "outputs": [],
   "source": [
    "our_data = ut_an.read_data('data/data_own.json', 512)"
   ]
  },
  {
   "cell_type": "code",
   "execution_count": null,
   "id": "bbb65698",
   "metadata": {},
   "outputs": [],
   "source": [
    "our_data.__len__()"
   ]
  },
  {
   "cell_type": "code",
   "execution_count": null,
   "id": "91862510",
   "metadata": {},
   "outputs": [],
   "source": [
    "print(our_data[-1])"
   ]
  },
  {
   "cell_type": "code",
   "execution_count": null,
   "id": "657df151",
   "metadata": {},
   "outputs": [],
   "source": []
  }
 ],
 "metadata": {
  "kernelspec": {
   "display_name": "Python 3 (ipykernel)",
   "language": "python",
   "name": "python3"
  },
  "language_info": {
   "codemirror_mode": {
    "name": "ipython",
    "version": 3
   },
   "file_extension": ".py",
   "mimetype": "text/x-python",
   "name": "python",
   "nbconvert_exporter": "python",
   "pygments_lexer": "ipython3",
   "version": "3.10.13"
  }
 },
 "nbformat": 4,
 "nbformat_minor": 5
}
